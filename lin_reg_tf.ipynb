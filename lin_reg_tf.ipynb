{
  "nbformat": 4,
  "nbformat_minor": 0,
  "metadata": {
    "colab": {
      "name": "lin-reg-tf.ipynb",
      "provenance": [],
      "collapsed_sections": [],
      "authorship_tag": "ABX9TyPaL5udUp8Q1NQY6ZSyOnv1",
      "include_colab_link": true
    },
    "kernelspec": {
      "name": "python3",
      "display_name": "Python 3"
    }
  },
  "cells": [
    {
      "cell_type": "markdown",
      "metadata": {
        "id": "view-in-github",
        "colab_type": "text"
      },
      "source": [
        "<a href=\"https://colab.research.google.com/github/sulavpanthi/Deep-learning/blob/master/lin_reg_tf.ipynb\" target=\"_parent\"><img src=\"https://colab.research.google.com/assets/colab-badge.svg\" alt=\"Open In Colab\"/></a>"
      ]
    },
    {
      "cell_type": "markdown",
      "metadata": {
        "id": "KVLAeO7YAYah",
        "colab_type": "text"
      },
      "source": [
        "# Generating dataset\n"
      ]
    },
    {
      "cell_type": "code",
      "metadata": {
        "id": "o_QxQN9qARhG",
        "colab_type": "code",
        "colab": {}
      },
      "source": [
        "import tensorflow.compat.v1 as tf\n",
        "tf.disable_v2_behavior() \n"
      ],
      "execution_count": 0,
      "outputs": []
    },
    {
      "cell_type": "code",
      "metadata": {
        "id": "9HM1jNKc7Ep6",
        "colab_type": "code",
        "colab": {}
      },
      "source": [
        "import numpy as np\n",
        "import matplotlib.pyplot as plt\n",
        "%matplotlib inline\n",
        "import pandas as pd"
      ],
      "execution_count": 0,
      "outputs": []
    },
    {
      "cell_type": "code",
      "metadata": {
        "id": "jAYPCRRh7PUA",
        "colab_type": "code",
        "colab": {}
      },
      "source": [
        "from sklearn.datasets import load_boston"
      ],
      "execution_count": 0,
      "outputs": []
    },
    {
      "cell_type": "code",
      "metadata": {
        "id": "7K2n8fJU7Ued",
        "colab_type": "code",
        "colab": {}
      },
      "source": [
        "boston = load_boston()"
      ],
      "execution_count": 0,
      "outputs": []
    },
    {
      "cell_type": "code",
      "metadata": {
        "id": "bMXUlLe07W-2",
        "colab_type": "code",
        "colab": {}
      },
      "source": [
        "features = np.array(boston.data)\n",
        "labels = np.array(boston.target)"
      ],
      "execution_count": 0,
      "outputs": []
    },
    {
      "cell_type": "code",
      "metadata": {
        "id": "y1ZtYQXR7ZiE",
        "colab_type": "code",
        "colab": {}
      },
      "source": [
        "n_training_samples = features.shape[0]\n",
        "n_dim = features.shape[1]"
      ],
      "execution_count": 0,
      "outputs": []
    },
    {
      "cell_type": "code",
      "metadata": {
        "id": "z3vIkpts71Lj",
        "colab_type": "code",
        "outputId": "57da77ad-5ad9-48bf-bf8f-3c599797fe4a",
        "colab": {
          "base_uri": "https://localhost:8080/",
          "height": 51
        }
      },
      "source": [
        "print(n_training_samples)\n",
        "print(n_dim)"
      ],
      "execution_count": 207,
      "outputs": [
        {
          "output_type": "stream",
          "text": [
            "506\n",
            "13\n"
          ],
          "name": "stdout"
        }
      ]
    },
    {
      "cell_type": "code",
      "metadata": {
        "id": "u9dcWPvS8Km7",
        "colab_type": "code",
        "colab": {}
      },
      "source": [
        "def normalize(dataset):\n",
        "  mu = np.mean(dataset)\n",
        "  sigma = np.std(dataset)\n",
        "  return (dataset-mu)/sigma"
      ],
      "execution_count": 0,
      "outputs": []
    },
    {
      "cell_type": "code",
      "metadata": {
        "id": "7gG-_x7t9Mbq",
        "colab_type": "code",
        "outputId": "12198880-d249-4b3d-a961-793f6f0ba502",
        "colab": {
          "base_uri": "https://localhost:8080/",
          "height": 51
        }
      },
      "source": [
        "features_norm = normalize(features)\n",
        "train_x = np.transpose(features_norm)\n",
        "train_y = np.transpose(labels)\n",
        "print(train_x.shape)\n",
        "print(train_y.shape)"
      ],
      "execution_count": 209,
      "outputs": [
        {
          "output_type": "stream",
          "text": [
            "(13, 506)\n",
            "(506,)\n"
          ],
          "name": "stdout"
        }
      ]
    },
    {
      "cell_type": "code",
      "metadata": {
        "id": "F1znE_E5_Fa1",
        "colab_type": "code",
        "outputId": "843b3d44-86e7-481f-ab6f-f06bf29a424a",
        "colab": {
          "base_uri": "https://localhost:8080/",
          "height": 34
        }
      },
      "source": [
        "train_y = train_y.reshape(1,len(train_y))\n",
        "print(train_y.shape)"
      ],
      "execution_count": 210,
      "outputs": [
        {
          "output_type": "stream",
          "text": [
            "(1, 506)\n"
          ],
          "name": "stdout"
        }
      ]
    },
    {
      "cell_type": "markdown",
      "metadata": {
        "id": "NbD-5hL_Ajfd",
        "colab_type": "text"
      },
      "source": [
        "# Constructing Graph"
      ]
    },
    {
      "cell_type": "code",
      "metadata": {
        "id": "AzBfCSZxAm_o",
        "colab_type": "code",
        "colab": {}
      },
      "source": [
        "# tf.reset_default_graph()\n",
        "\n",
        "x = tf.placeholder(tf.float32, [n_dim, None], name = 'x')\n",
        "y = tf.placeholder(tf.float32, [1, None], name = 'y')\n",
        "\n"
      ],
      "execution_count": 0,
      "outputs": []
    },
    {
      "cell_type": "code",
      "metadata": {
        "id": "pa98fcQxNARq",
        "colab_type": "code",
        "colab": {}
      },
      "source": [
        "\n",
        "\n",
        "w = tf.Variable(np.random.normal(), name = 'w')\n",
        "b = tf.Variable(np.random.normal, name = 'b')\n"
      ],
      "execution_count": 0,
      "outputs": []
    },
    {
      "cell_type": "code",
      "metadata": {
        "id": "ZQ9QKAzoNm0O",
        "colab_type": "code",
        "colab": {}
      },
      "source": [
        "\n",
        "y_pred = tf.add(tf.multiply(w, x), b)\n",
        "\n"
      ],
      "execution_count": 0,
      "outputs": []
    },
    {
      "cell_type": "code",
      "metadata": {
        "id": "YusP-NeaN8wE",
        "colab_type": "code",
        "colab": {}
      },
      "source": [
        "loss = tf.reduce_mean(tf.square(y_pred - y))"
      ],
      "execution_count": 0,
      "outputs": []
    },
    {
      "cell_type": "markdown",
      "metadata": {
        "id": "75ZzLuEHMSRT",
        "colab_type": "text"
      },
      "source": [
        "# Computing Graph"
      ]
    },
    {
      "cell_type": "code",
      "metadata": {
        "id": "t1x7rkj5MVoB",
        "colab_type": "code",
        "colab": {}
      },
      "source": [
        "optimizer = tf.train.GradientDescentOptimizer(0.1)\n",
        "train_op = optimizer.minimize(loss)"
      ],
      "execution_count": 0,
      "outputs": []
    },
    {
      "cell_type": "code",
      "metadata": {
        "id": "WROxRZX2OeQi",
        "colab_type": "code",
        "outputId": "49a0aa4c-f6f5-4071-b852-50577af5e8e6",
        "colab": {
          "base_uri": "https://localhost:8080/",
          "height": 792
        }
      },
      "source": [
        "with tf.Session() as session:\n",
        "  session.run(tf.global_variables_initializer())\n",
        "  feed_dict = {x:train_x, y:train_y}\n",
        "  for i in range(30):\n",
        "    _ = session.run(train_op, feed_dict)\n",
        "    print(i, \"loss\", loss.eval(feed_dict))\n",
        "    plt.plot(i, loss.eval(feed_dict), 'bo')\n",
        "\n",
        "  print('predicting')\n",
        "  y_pred_batch = session.run(y_pred, {x:train_x})"
      ],
      "execution_count": 216,
      "outputs": [
        {
          "output_type": "stream",
          "text": [
            "0 loss 398.34268\n",
            "1 loss 285.29318\n",
            "2 loss 212.94151\n",
            "3 loss 166.63647\n",
            "4 loss 137.00119\n",
            "5 loss 118.034645\n",
            "6 loss 105.89602\n",
            "7 loss 98.12733\n",
            "8 loss 93.15535\n",
            "9 loss 89.97327\n",
            "10 loss 87.93675\n",
            "11 loss 86.63339\n",
            "12 loss 85.79922\n",
            "13 loss 85.26537\n",
            "14 loss 84.92369\n",
            "15 loss 84.70502\n",
            "16 loss 84.56509\n",
            "17 loss 84.475494\n",
            "18 loss 84.41819\n",
            "19 loss 84.3815\n",
            "20 loss 84.358\n",
            "21 loss 84.34298\n",
            "22 loss 84.333405\n",
            "23 loss 84.32721\n",
            "24 loss 84.323296\n",
            "25 loss 84.32075\n",
            "26 loss 84.31915\n",
            "27 loss 84.318115\n",
            "28 loss 84.31748\n",
            "29 loss 84.317055\n",
            "predicting\n"
          ],
          "name": "stdout"
        },
        {
          "output_type": "display_data",
          "data": {
            "image/png": "[encoded data removed]",
            "text/plain": [
              "<Figure size 432x288 with 1 Axes>"
            ]
          },
          "metadata": {
            "tags": [],
            "needs_background": "light"
          }
        }
      ]
    },
    {
      "cell_type": "code",
      "metadata": {
        "id": "HATK8kYJPW9T",
        "colab_type": "code",
        "colab": {}
      },
      "source": [
        "# plt.scatter(train_x, train_y)\n",
        "# plt.plot(train_x, y_pred_batch, color='red')\n",
        "# plt.xlim(0, 2)\n",
        "# plt.ylim(0, 2)\n",
        "# plt.savefig('plot.png')"
      ],
      "execution_count": 0,
      "outputs": []
    },
    {
      "cell_type": "code",
      "metadata": {
        "id": "Sr8s9Ch-Qwll",
        "colab_type": "code",
        "colab": {}
      },
      "source": [
        ""
      ],
      "execution_count": 0,
      "outputs": []
    }
  ]
}