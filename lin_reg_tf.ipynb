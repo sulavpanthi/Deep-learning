{
  "nbformat": 4,
  "nbformat_minor": 0,
  "metadata": {
    "colab": {
      "name": "lin-reg-tf.ipynb",
      "provenance": [],
      "authorship_tag": "ABX9TyNAYoyKxOSeW+8sAaSxse6r",
      "include_colab_link": true
    },
    "kernelspec": {
      "name": "python3",
      "display_name": "Python 3"
    }
  },
  "cells": [
    {
      "cell_type": "markdown",
      "metadata": {
        "id": "view-in-github",
        "colab_type": "text"
      },
      "source": [
        "<a href=\"https://colab.research.google.com/github/sulavpanthi/Deep-learning/blob/master/lin_reg_tf.ipynb\" target=\"_parent\"><img src=\"https://colab.research.google.com/assets/colab-badge.svg\" alt=\"Open In Colab\"/></a>"
      ]
    },
    {
      "cell_type": "markdown",
      "metadata": {
        "id": "KVLAeO7YAYah",
        "colab_type": "text"
      },
      "source": [
        "# Generating dataset\n"
      ]
    },
    {
      "cell_type": "code",
      "metadata": {
        "id": "o_QxQN9qARhG",
        "colab_type": "code",
        "colab": {}
      },
      "source": [
        "import tensorflow.compat.v1 as tf\n",
        "tf.disable_v2_behavior() \n"
      ],
      "execution_count": 0,
      "outputs": []
    },
    {
      "cell_type": "code",
      "metadata": {
        "id": "9HM1jNKc7Ep6",
        "colab_type": "code",
        "colab": {}
      },
      "source": [
        "import numpy as np\n",
        "import matplotlib.pyplot as plt\n",
        "%matplotlib inline\n",
        "import pandas as pd"
      ],
      "execution_count": 0,
      "outputs": []
    },
    {
      "cell_type": "code",
      "metadata": {
        "id": "jAYPCRRh7PUA",
        "colab_type": "code",
        "colab": {}
      },
      "source": [
        "from sklearn.datasets import load_boston"
      ],
      "execution_count": 0,
      "outputs": []
    },
    {
      "cell_type": "code",
      "metadata": {
        "id": "7K2n8fJU7Ued",
        "colab_type": "code",
        "colab": {}
      },
      "source": [
        "boston = load_boston()"
      ],
      "execution_count": 0,
      "outputs": []
    },
    {
      "cell_type": "code",
      "metadata": {
        "id": "bMXUlLe07W-2",
        "colab_type": "code",
        "colab": {}
      },
      "source": [
        "features = np.array(boston.data)\n",
        "labels = np.array(boston.target)"
      ],
      "execution_count": 0,
      "outputs": []
    },
    {
      "cell_type": "code",
      "metadata": {
        "id": "y1ZtYQXR7ZiE",
        "colab_type": "code",
        "colab": {}
      },
      "source": [
        "n_training_samples = features.shape[0]\n",
        "n_dim = features.shape[1]"
      ],
      "execution_count": 0,
      "outputs": []
    },
    {
      "cell_type": "code",
      "metadata": {
        "id": "z3vIkpts71Lj",
        "colab_type": "code",
        "outputId": "39fd2913-78c8-4376-9091-5e31b0a18b21",
        "colab": {
          "base_uri": "https://localhost:8080/",
          "height": 51
        }
      },
      "source": [
        "print(n_training_samples)\n",
        "print(n_dim)"
      ],
      "execution_count": 189,
      "outputs": [
        {
          "output_type": "stream",
          "text": [
            "506\n",
            "13\n"
          ],
          "name": "stdout"
        }
      ]
    },
    {
      "cell_type": "code",
      "metadata": {
        "id": "u9dcWPvS8Km7",
        "colab_type": "code",
        "colab": {}
      },
      "source": [
        "def normalize(dataset):\n",
        "  mu = np.mean(dataset)\n",
        "  sigma = np.std(dataset)\n",
        "  return (dataset-mu)/sigma"
      ],
      "execution_count": 0,
      "outputs": []
    },
    {
      "cell_type": "code",
      "metadata": {
        "id": "7gG-_x7t9Mbq",
        "colab_type": "code",
        "outputId": "2ebaa960-5a21-4c0b-ba8b-4c260e112fb1",
        "colab": {
          "base_uri": "https://localhost:8080/",
          "height": 51
        }
      },
      "source": [
        "features_norm = normalize(features)\n",
        "train_x = np.transpose(features_norm)\n",
        "train_y = np.transpose(labels)\n",
        "print(train_x.shape)\n",
        "print(train_y.shape)"
      ],
      "execution_count": 191,
      "outputs": [
        {
          "output_type": "stream",
          "text": [
            "(13, 506)\n",
            "(506,)\n"
          ],
          "name": "stdout"
        }
      ]
    },
    {
      "cell_type": "code",
      "metadata": {
        "id": "F1znE_E5_Fa1",
        "colab_type": "code",
        "outputId": "42ea54fe-5417-4253-f311-f98fa4b6bc46",
        "colab": {
          "base_uri": "https://localhost:8080/",
          "height": 34
        }
      },
      "source": [
        "train_y = train_y.reshape(1,len(train_y))\n",
        "print(train_y.shape)"
      ],
      "execution_count": 192,
      "outputs": [
        {
          "output_type": "stream",
          "text": [
            "(1, 506)\n"
          ],
          "name": "stdout"
        }
      ]
    },
    {
      "cell_type": "markdown",
      "metadata": {
        "id": "NbD-5hL_Ajfd",
        "colab_type": "text"
      },
      "source": [
        "# Constructing Graph"
      ]
    },
    {
      "cell_type": "code",
      "metadata": {
        "id": "AzBfCSZxAm_o",
        "colab_type": "code",
        "colab": {}
      },
      "source": [
        "# tf.reset_default_graph()\n",
        "\n",
        "x = tf.placeholder(tf.float32, [n_dim, None], name = 'x')\n",
        "y = tf.placeholder(tf.float32, [1, None], name = 'y')\n",
        "\n"
      ],
      "execution_count": 0,
      "outputs": []
    },
    {
      "cell_type": "code",
      "metadata": {
        "id": "pa98fcQxNARq",
        "colab_type": "code",
        "colab": {}
      },
      "source": [
        "\n",
        "\n",
        "w = tf.Variable(np.random.normal(), name = 'w')\n",
        "b = tf.Variable(np.random.normal, name = 'b')\n"
      ],
      "execution_count": 0,
      "outputs": []
    },
    {
      "cell_type": "code",
      "metadata": {
        "id": "ZQ9QKAzoNm0O",
        "colab_type": "code",
        "colab": {}
      },
      "source": [
        "\n",
        "y_pred = tf.add(tf.multiply(w, x), b)\n",
        "\n"
      ],
      "execution_count": 0,
      "outputs": []
    },
    {
      "cell_type": "code",
      "metadata": {
        "id": "YusP-NeaN8wE",
        "colab_type": "code",
        "colab": {}
      },
      "source": [
        "loss = tf.reduce_mean(tf.square(y_pred - y))"
      ],
      "execution_count": 0,
      "outputs": []
    },
    {
      "cell_type": "markdown",
      "metadata": {
        "id": "75ZzLuEHMSRT",
        "colab_type": "text"
      },
      "source": [
        "# Computing Graph"
      ]
    },
    {
      "cell_type": "code",
      "metadata": {
        "id": "t1x7rkj5MVoB",
        "colab_type": "code",
        "colab": {}
      },
      "source": [
        "optimizer = tf.train.GradientDescentOptimizer(0.1)\n",
        "train_op = optimizer.minimize(loss)"
      ],
      "execution_count": 0,
      "outputs": []
    },
    {
      "cell_type": "code",
      "metadata": {
        "id": "WROxRZX2OeQi",
        "colab_type": "code",
        "outputId": "c172a0ed-9ed8-484e-adf3-54b8f377090c",
        "colab": {
          "base_uri": "https://localhost:8080/",
          "height": 792
        }
      },
      "source": [
        "with tf.Session() as session:\n",
        "  session.run(tf.global_variables_initializer())\n",
        "  feed_dict = {x:train_x, y:train_y}\n",
        "  for i in range(30):\n",
        "    _ = session.run(train_op, {x:train_x, y:train_y})\n",
        "    print(i, \"loss\", loss.eval(feed_dict))\n",
        "    plt.plot(i, loss.eval(feed_dict), 'bo')\n",
        "\n",
        "  print('predicting')\n",
        "  y_pred_batch = session.run(y_pred, {x:train_x})"
      ],
      "execution_count": 198,
      "outputs": [
        {
          "output_type": "stream",
          "text": [
            "0 loss 408.23996\n",
            "1 loss 291.6275\n",
            "2 loss 216.99545\n",
            "3 loss 169.23096\n",
            "4 loss 138.66171\n",
            "5 loss 119.09734\n",
            "6 loss 106.57617\n",
            "7 loss 98.56261\n",
            "8 loss 93.433914\n",
            "9 loss 90.15157\n",
            "10 loss 88.05089\n",
            "11 loss 86.706436\n",
            "12 loss 85.845955\n",
            "13 loss 85.295265\n",
            "14 loss 84.94285\n",
            "15 loss 84.717285\n",
            "16 loss 84.572914\n",
            "17 loss 84.480515\n",
            "18 loss 84.4214\n",
            "19 loss 84.38359\n",
            "20 loss 84.359344\n",
            "21 loss 84.34384\n",
            "22 loss 84.333916\n",
            "23 loss 84.32757\n",
            "24 loss 84.3235\n",
            "25 loss 84.320915\n",
            "26 loss 84.31927\n",
            "27 loss 84.318184\n",
            "28 loss 84.317505\n",
            "29 loss 84.317055\n",
            "predicting\n"
          ],
          "name": "stdout"
        },
        {
          "output_type": "display_data",
          "data": {
            "image/png": "[encoded data removed]",
            "text/plain": [
              "<Figure size 432x288 with 1 Axes>"
            ]
          },
          "metadata": {
            "tags": [],
            "needs_background": "light"
          }
        }
      ]
    },
    {
      "cell_type": "code",
      "metadata": {
        "id": "HATK8kYJPW9T",
        "colab_type": "code",
        "colab": {}
      },
      "source": [
        "# plt.scatter(train_x, train_y)\n",
        "# plt.plot(train_x, y_pred_batch, color='red')\n",
        "# plt.xlim(0, 2)\n",
        "# plt.ylim(0, 2)\n",
        "# plt.savefig('plot.png')"
      ],
      "execution_count": 0,
      "outputs": []
    },
    {
      "cell_type": "code",
      "metadata": {
        "id": "Sr8s9Ch-Qwll",
        "colab_type": "code",
        "colab": {}
      },
      "source": [
        ""
      ],
      "execution_count": 0,
      "outputs": []
    }
  ]
}